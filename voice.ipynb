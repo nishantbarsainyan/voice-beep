{
 "cells": [
  {
   "cell_type": "markdown",
   "metadata": {},
   "source": [
    "# Voice recognition system to detect negative words spoken with a beep signal "
   ]
  },
  {
   "cell_type": "markdown",
   "metadata": {},
   "source": [
    "This algorithm receives input via microphone and processes it using different speech recognition services (e.g. Google and Sphinx). If any item of the negative words list is detected, it sends a beep signal as alert. \n",
    "\n",
    "First, the Speech Recognition package needs to be installed: "
   ]
  },
  {
   "cell_type": "code",
   "execution_count": 2,
   "metadata": {
    "collapsed": false
   },
   "outputs": [
    {
     "name": "stdout",
     "output_type": "stream",
     "text": [
      "Requirement already up-to-date: speechrecognition in /Users/Lucky1/anaconda/lib/python2.7/site-packages (3.8.1)\r\n"
     ]
    }
   ],
   "source": [
    "!pip install --upgrade speechrecognition"
   ]
  },
  {
   "cell_type": "markdown",
   "metadata": {},
   "source": [
    "Then, Pyaudio is installed with the conda package manager: "
   ]
  },
  {
   "cell_type": "code",
   "execution_count": 17,
   "metadata": {
    "collapsed": false
   },
   "outputs": [
    {
     "name": "stdout",
     "output_type": "stream",
     "text": [
      "Fetching package metadata ...........\n",
      "Solving package specifications: .\n",
      "\n",
      "Package plan for installation in environment /Users/Lucky1/anaconda:\n",
      "\n",
      "The following NEW packages will be INSTALLED:\n",
      "\n",
      "    portaudio: 19.6.0-h41429eb_1    \n",
      "\n",
      "The following packages will be UPDATED:\n",
      "\n",
      "    conda:     4.3.30-py27h407ed3a_0 --> 4.5.12-py27_0        \n",
      "    conda-env: 2.6.0-0               --> 2.6.0-1              \n",
      "    pyaudio:   0.2.7-py27_0          --> 0.2.11-py27h1de35cc_1\n",
      "    pycosat:   0.6.1-py27_1          --> 0.6.3-py27h1de35cc_0 \n",
      "\n",
      "conda-env-2.6. 100% |################################| Time: 0:00:00   1.81 MB/s\n",
      "portaudio-19.6 100% |################################| Time: 0:00:00   4.45 MB/s\n",
      "pyaudio-0.2.11 100% |################################| Time: 0:00:00  11.93 MB/s\n",
      "pycosat-0.6.3- 100% |################################| Time: 0:00:00   4.86 MB/s\n",
      "conda-4.5.12-p 100% |################################| Time: 0:00:00   3.30 MB/s\n"
     ]
    }
   ],
   "source": [
    "!conda install -y pyaudio "
   ]
  },
  {
   "cell_type": "markdown",
   "metadata": {},
   "source": [
    "Implementation: "
   ]
  },
  {
   "cell_type": "code",
   "execution_count": 1,
   "metadata": {
    "collapsed": false
   },
   "outputs": [
    {
     "name": "stdout",
     "output_type": "stream",
     "text": [
      "Listening now..\n",
      "Santorini is totally awesome\n",
      "yes she should try to go there\n",
      "Negative word detected: try\n",
      "Finished capturing voice.\n"
     ]
    }
   ],
   "source": [
    "# Code extended from: https://github.com/Uberi/speech_recognition/blob/master/examples/background_listening.py\n",
    "\n",
    "import os\n",
    "import time\n",
    "import pyaudio\n",
    "import speech_recognition as sr\n",
    "\n",
    "# List of negative words\n",
    "negative_words = [\"if\", \"can't\", \"try\"]\n",
    "\n",
    "# Define stream for beep  \n",
    "stream=pyaudio.PyAudio().open(format=pyaudio.paInt8,channels=1, rate=16000, output=True)\n",
    "\n",
    "# Receives input per Mic and processes it using speech recognition services as background thread\n",
    "def callback(recognizer, audio):\n",
    "    \n",
    "    # Using Sphinx Speech Recognition     \n",
    "    #try:\n",
    "    #    print(r.recognize_sphinx(audio))\n",
    "    #except sr.UnknownValueError:\n",
    "    #    print(\"Sphinx could not understand audio\")\n",
    "    #except sr.RequestError as e:\n",
    "    #    print(\"Sphinx error; {0}\".format(e))\n",
    "    \n",
    "    # Using Google Speech Recognition\n",
    "    try:\n",
    "        data = recognizer.recognize_google(audio)\n",
    "        print(data)\n",
    "        # Check for negative words\n",
    "        for word in negative_words:\n",
    "            if word in data: \n",
    "                print('Negative word detected: {}'.format(word))\n",
    "                # Send the beep signal - system beep = os.system(\"\\a\")\n",
    "                for n in range(200): \n",
    "                    stream.write(\"\\x00\\x30\\x5a\\x76\\x7f\\x76\\x5a\\x30\\x00\\xd0\\xa6\\x8a\\x80\\x8a\\xa6\\xd0\")\n",
    "            \n",
    "    except sr.UnknownValueError:\n",
    "        #print(\"Please say it again.\")\n",
    "        pass\n",
    "    except sr.RequestError as e:\n",
    "        print(\"Could not request results from Google Speech Recognition service, {0}\".format(e))\n",
    "\n",
    "r = sr.Recognizer()\n",
    "m = sr.Microphone()\n",
    "with m as source:\n",
    "    print('Listening now..')\n",
    "    # We only need to calibrate once, before we start listening\n",
    "    r.adjust_for_ambient_noise(source) \n",
    "\n",
    "# Start listening in the background (note that we don't have to do this inside a 'with' statement)\n",
    "stop_listening = r.listen_in_background(m, callback)\n",
    "\n",
    "# Time in seconds listening in background\n",
    "time.sleep(20)  \n",
    "\n",
    "# Calling this function requests that the background function stops listening\n",
    "stop_listening(wait_for_stop=False)\n",
    "\n",
    "# Closing stream channel \n",
    "stream.close()\n",
    "pyaudio.PyAudio().terminate()\n",
    "\n",
    "print('Finished capturing voice.')"
   ]
  }
 ],
 "metadata": {
  "kernelspec": {
   "display_name": "Python 2",
   "language": "python",
   "name": "python2"
  },
  "language_info": {
   "codemirror_mode": {
    "name": "ipython",
    "version": 2
   },
   "file_extension": ".py",
   "mimetype": "text/x-python",
   "name": "python",
   "nbconvert_exporter": "python",
   "pygments_lexer": "ipython2",
   "version": "2.7.13"
  }
 },
 "nbformat": 4,
 "nbformat_minor": 2
}
